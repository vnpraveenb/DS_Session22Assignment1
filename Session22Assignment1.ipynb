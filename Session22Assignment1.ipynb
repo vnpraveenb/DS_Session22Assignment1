{
 "cells": [
  {
   "cell_type": "code",
   "execution_count": 1,
   "metadata": {
    "code_folding": []
   },
   "outputs": [],
   "source": [
    "# I decided to treat this as a classification problem by creating a new binary variable affair\n",
    "# (did the woman have at least one affair?) and trying to predict the classification for each\n",
    "# woman."
   ]
  },
  {
   "cell_type": "code",
   "execution_count": 2,
   "metadata": {},
   "outputs": [],
   "source": [
    "# Dataset\n",
    "    # The dataset I chose is the affairs dataset that comes with Statsmodels. It was derived\n",
    "    # from a survey of women in 1974 by Redbook magazine, in which married women were\n",
    "    # asked about their participation in extramarital affairs. More information about the study\n",
    "    # is available in a 1978 paper from the Journal of Political Economy."
   ]
  },
  {
   "cell_type": "code",
   "execution_count": 3,
   "metadata": {},
   "outputs": [],
   "source": [
    "# Description of Variables:\n",
    "# The dataset contains 6366 observations of 9 variables:\n",
    "    # rate_marriage: woman's rating of her marriage (1 = very poor, 5 = very good)\n",
    "    # age: woman's age\n",
    "    # yrs_married: number of years married\n",
    "    # children: number of children\n",
    "    # religious: woman's rating of how religious she is (1 = not religious, 4 = strongly religious)\n",
    "    # educ: level of education (9 = grade school, 12 = high school, 14 = some college, 16 =\n",
    "    # college graduate, 17 = some graduate school, 20 = advanced degree)\n",
    "    # occupation: woman's occupation (1 = student, 2 = farming/semi-skilled/unskilled, 3 =\n",
    "    # \"white collar\", 4 = teacher/nurse/writer/technician/skilled, 5 = managerial/business, 6 =\n",
    "    # professional with advanced degree)\n",
    "    # occupation_husb: husband's occupation (same coding as above)\n",
    "    # affairs: time spent in extra-marital affairs"
   ]
  },
  {
   "cell_type": "code",
   "execution_count": 4,
   "metadata": {},
   "outputs": [],
   "source": [
    "# Code to loading data and modules\n",
    "    # import numpy as np\n",
    "    # import pandas as pd\n",
    "    # import statsmodels.api as sm\n",
    "    # import matplotlib.pyplot as plt\n",
    "    # from patsy import dmatrices\n",
    "    # from sklearn.linear_model import LogisticRegression\n",
    "    # from sklearn.cross_validation import train_test_split\n",
    "    # from sklearn import metrics\n",
    "    # from sklearn.cross_validation import cross_val_score\n",
    "    # dta = sm.datasets.fair.load_pandas().data\n",
    "    # # add \"affair\" column: 1 represents having affairs, 0 represents not\n",
    "    # dta['affair'] = (dta.affairs > 0).astype(int)\n",
    "    # Y, X = dmatrices('affair ~ rate_marriage + age + yrs_married + children + \\\n",
    "    # religious + educ + C(occupation) + C(occupation_husb)',\n",
    "    # dta, return_type=\"dataframe\")\n",
    "    # X = X.rename(columns = {'C(occupation)[T.2.0]':'occ_2',\n",
    "    # 'C(occupation)[T.3.0]':'occ_3',\n",
    "    # 'C(occupation)[T.4.0]':'occ_4',\n",
    "    # 'C(occupation)[T.5.0]':'occ_5',\n",
    "    # 'C(occupation)[T.6.0]':'occ_6',\n",
    "    # 'C(occupation_husb)[T.2.0]':'occ_husb_2',\n",
    "    # 'C(occupation_husb)[T.3.0]':'occ_husb_3',\n",
    "    # 'C(occupation_husb)[T.4.0]':'occ_husb_4',\n",
    "    # 'C(occupation_husb)[T.5.0]':'occ_husb_5',\n",
    "    # 'C(occupation_husb)[T.6.0]':'occ_husb_6'})\n",
    "    # Y = np.ravel(y)"
   ]
  },
  {
   "cell_type": "markdown",
   "metadata": {},
   "source": [
    "# Loading Libraries and Data"
   ]
  },
  {
   "cell_type": "code",
   "execution_count": 5,
   "metadata": {},
   "outputs": [
    {
     "name": "stderr",
     "output_type": "stream",
     "text": [
      "C:\\Users\\Praveen\\Anaconda3\\lib\\site-packages\\statsmodels\\compat\\pandas.py:56: FutureWarning: The pandas.core.datetools module is deprecated and will be removed in a future version. Please use the pandas.tseries module instead.\n",
      "  from pandas.core import datetools\n"
     ]
    }
   ],
   "source": [
    "import numpy as np\n",
    "import pandas as pd\n",
    "import statsmodels.api as sm\n",
    "\n",
    "import matplotlib.pyplot as plt\n",
    "import seaborn as sns\n",
    "\n",
    "from patsy import dmatrices\n",
    "\n",
    "\n",
    "from sklearn.linear_model import LogisticRegression\n",
    "\n",
    "from sklearn.model_selection import train_test_split\n",
    "from sklearn.model_selection import cross_val_score\n",
    "\n",
    "from sklearn import metrics\n",
    "\n",
    "dta = sm.datasets.fair.load_pandas().data\n",
    "# add \"affair\" column: 1 represents having affairs, 0 represents not\n",
    "dta['affair'] = (dta.affairs > 0).astype(int)\n",
    "Y, X = dmatrices('affair ~ rate_marriage + age + yrs_married + children + \\\n",
    "religious + educ + C(occupation) + C(occupation_husb)',\n",
    "dta, return_type=\"dataframe\")\n",
    "X = X.rename(columns = {'C(occupation)[T.2.0]':'occ_2',\n",
    "'C(occupation)[T.3.0]':'occ_3',\n",
    "'C(occupation)[T.4.0]':'occ_4',\n",
    "'C(occupation)[T.5.0]':'occ_5',\n",
    "'C(occupation)[T.6.0]':'occ_6',\n",
    "'C(occupation_husb)[T.2.0]':'occ_husb_2',\n",
    "'C(occupation_husb)[T.3.0]':'occ_husb_3',\n",
    "'C(occupation_husb)[T.4.0]':'occ_husb_4',\n",
    "'C(occupation_husb)[T.5.0]':'occ_husb_5',\n",
    "'C(occupation_husb)[T.6.0]':'occ_husb_6'})\n"
   ]
  },
  {
   "cell_type": "markdown",
   "metadata": {},
   "source": [
    "# Understanding the dataset and data"
   ]
  },
  {
   "cell_type": "markdown",
   "metadata": {},
   "source": [
    "## About dta"
   ]
  },
  {
   "cell_type": "code",
   "execution_count": 6,
   "metadata": {},
   "outputs": [
    {
     "data": {
      "text/plain": [
       "pandas.core.frame.DataFrame"
      ]
     },
     "execution_count": 6,
     "metadata": {},
     "output_type": "execute_result"
    }
   ],
   "source": [
    "type(dta)"
   ]
  },
  {
   "cell_type": "code",
   "execution_count": 7,
   "metadata": {},
   "outputs": [
    {
     "name": "stdout",
     "output_type": "stream",
     "text": [
      "(6366, 10)\n"
     ]
    }
   ],
   "source": [
    "print(dta.shape)"
   ]
  },
  {
   "cell_type": "code",
   "execution_count": 8,
   "metadata": {},
   "outputs": [
    {
     "name": "stdout",
     "output_type": "stream",
     "text": [
      "Index(['rate_marriage', 'age', 'yrs_married', 'children', 'religious', 'educ',\n",
      "       'occupation', 'occupation_husb', 'affairs', 'affair'],\n",
      "      dtype='object')\n"
     ]
    }
   ],
   "source": [
    "print(dta.columns)"
   ]
  },
  {
   "cell_type": "code",
   "execution_count": 9,
   "metadata": {},
   "outputs": [
    {
     "data": {
      "text/html": [
       "<div>\n",
       "<style scoped>\n",
       "    .dataframe tbody tr th:only-of-type {\n",
       "        vertical-align: middle;\n",
       "    }\n",
       "\n",
       "    .dataframe tbody tr th {\n",
       "        vertical-align: top;\n",
       "    }\n",
       "\n",
       "    .dataframe thead th {\n",
       "        text-align: right;\n",
       "    }\n",
       "</style>\n",
       "<table border=\"1\" class=\"dataframe\">\n",
       "  <thead>\n",
       "    <tr style=\"text-align: right;\">\n",
       "      <th></th>\n",
       "      <th>rate_marriage</th>\n",
       "      <th>age</th>\n",
       "      <th>yrs_married</th>\n",
       "      <th>children</th>\n",
       "      <th>religious</th>\n",
       "      <th>educ</th>\n",
       "      <th>occupation</th>\n",
       "      <th>occupation_husb</th>\n",
       "      <th>affairs</th>\n",
       "      <th>affair</th>\n",
       "    </tr>\n",
       "  </thead>\n",
       "  <tbody>\n",
       "    <tr>\n",
       "      <th>0</th>\n",
       "      <td>3.0</td>\n",
       "      <td>32.0</td>\n",
       "      <td>9.0</td>\n",
       "      <td>3.0</td>\n",
       "      <td>3.0</td>\n",
       "      <td>17.0</td>\n",
       "      <td>2.0</td>\n",
       "      <td>5.0</td>\n",
       "      <td>0.111111</td>\n",
       "      <td>1</td>\n",
       "    </tr>\n",
       "    <tr>\n",
       "      <th>1</th>\n",
       "      <td>3.0</td>\n",
       "      <td>27.0</td>\n",
       "      <td>13.0</td>\n",
       "      <td>3.0</td>\n",
       "      <td>1.0</td>\n",
       "      <td>14.0</td>\n",
       "      <td>3.0</td>\n",
       "      <td>4.0</td>\n",
       "      <td>3.230769</td>\n",
       "      <td>1</td>\n",
       "    </tr>\n",
       "    <tr>\n",
       "      <th>2</th>\n",
       "      <td>4.0</td>\n",
       "      <td>22.0</td>\n",
       "      <td>2.5</td>\n",
       "      <td>0.0</td>\n",
       "      <td>1.0</td>\n",
       "      <td>16.0</td>\n",
       "      <td>3.0</td>\n",
       "      <td>5.0</td>\n",
       "      <td>1.400000</td>\n",
       "      <td>1</td>\n",
       "    </tr>\n",
       "    <tr>\n",
       "      <th>3</th>\n",
       "      <td>4.0</td>\n",
       "      <td>37.0</td>\n",
       "      <td>16.5</td>\n",
       "      <td>4.0</td>\n",
       "      <td>3.0</td>\n",
       "      <td>16.0</td>\n",
       "      <td>5.0</td>\n",
       "      <td>5.0</td>\n",
       "      <td>0.727273</td>\n",
       "      <td>1</td>\n",
       "    </tr>\n",
       "    <tr>\n",
       "      <th>4</th>\n",
       "      <td>5.0</td>\n",
       "      <td>27.0</td>\n",
       "      <td>9.0</td>\n",
       "      <td>1.0</td>\n",
       "      <td>1.0</td>\n",
       "      <td>14.0</td>\n",
       "      <td>3.0</td>\n",
       "      <td>4.0</td>\n",
       "      <td>4.666666</td>\n",
       "      <td>1</td>\n",
       "    </tr>\n",
       "  </tbody>\n",
       "</table>\n",
       "</div>"
      ],
      "text/plain": [
       "   rate_marriage   age  yrs_married  children  religious  educ  occupation  \\\n",
       "0            3.0  32.0          9.0       3.0        3.0  17.0         2.0   \n",
       "1            3.0  27.0         13.0       3.0        1.0  14.0         3.0   \n",
       "2            4.0  22.0          2.5       0.0        1.0  16.0         3.0   \n",
       "3            4.0  37.0         16.5       4.0        3.0  16.0         5.0   \n",
       "4            5.0  27.0          9.0       1.0        1.0  14.0         3.0   \n",
       "\n",
       "   occupation_husb   affairs  affair  \n",
       "0              5.0  0.111111       1  \n",
       "1              4.0  3.230769       1  \n",
       "2              5.0  1.400000       1  \n",
       "3              5.0  0.727273       1  \n",
       "4              4.0  4.666666       1  "
      ]
     },
     "execution_count": 9,
     "metadata": {},
     "output_type": "execute_result"
    }
   ],
   "source": [
    "dta.head()"
   ]
  },
  {
   "cell_type": "markdown",
   "metadata": {},
   "source": [
    "## About X dataframe - Input Vector"
   ]
  },
  {
   "cell_type": "code",
   "execution_count": 10,
   "metadata": {},
   "outputs": [
    {
     "data": {
      "text/plain": [
       "pandas.core.frame.DataFrame"
      ]
     },
     "execution_count": 10,
     "metadata": {},
     "output_type": "execute_result"
    }
   ],
   "source": [
    "type(X)"
   ]
  },
  {
   "cell_type": "code",
   "execution_count": 11,
   "metadata": {},
   "outputs": [
    {
     "data": {
      "text/plain": [
       "(6366, 17)"
      ]
     },
     "execution_count": 11,
     "metadata": {},
     "output_type": "execute_result"
    }
   ],
   "source": [
    "X.shape"
   ]
  },
  {
   "cell_type": "code",
   "execution_count": 12,
   "metadata": {},
   "outputs": [
    {
     "data": {
      "text/plain": [
       "Index(['Intercept', 'occ_2', 'occ_3', 'occ_4', 'occ_5', 'occ_6', 'occ_husb_2',\n",
       "       'occ_husb_3', 'occ_husb_4', 'occ_husb_5', 'occ_husb_6', 'rate_marriage',\n",
       "       'age', 'yrs_married', 'children', 'religious', 'educ'],\n",
       "      dtype='object')"
      ]
     },
     "execution_count": 12,
     "metadata": {},
     "output_type": "execute_result"
    }
   ],
   "source": [
    "X.columns"
   ]
  },
  {
   "cell_type": "code",
   "execution_count": 13,
   "metadata": {
    "scrolled": false
   },
   "outputs": [
    {
     "data": {
      "text/html": [
       "<div>\n",
       "<style scoped>\n",
       "    .dataframe tbody tr th:only-of-type {\n",
       "        vertical-align: middle;\n",
       "    }\n",
       "\n",
       "    .dataframe tbody tr th {\n",
       "        vertical-align: top;\n",
       "    }\n",
       "\n",
       "    .dataframe thead th {\n",
       "        text-align: right;\n",
       "    }\n",
       "</style>\n",
       "<table border=\"1\" class=\"dataframe\">\n",
       "  <thead>\n",
       "    <tr style=\"text-align: right;\">\n",
       "      <th></th>\n",
       "      <th>Intercept</th>\n",
       "      <th>occ_2</th>\n",
       "      <th>occ_3</th>\n",
       "      <th>occ_4</th>\n",
       "      <th>occ_5</th>\n",
       "      <th>occ_6</th>\n",
       "      <th>occ_husb_2</th>\n",
       "      <th>occ_husb_3</th>\n",
       "      <th>occ_husb_4</th>\n",
       "      <th>occ_husb_5</th>\n",
       "      <th>occ_husb_6</th>\n",
       "      <th>rate_marriage</th>\n",
       "      <th>age</th>\n",
       "      <th>yrs_married</th>\n",
       "      <th>children</th>\n",
       "      <th>religious</th>\n",
       "      <th>educ</th>\n",
       "    </tr>\n",
       "  </thead>\n",
       "  <tbody>\n",
       "    <tr>\n",
       "      <th>0</th>\n",
       "      <td>1.0</td>\n",
       "      <td>1.0</td>\n",
       "      <td>0.0</td>\n",
       "      <td>0.0</td>\n",
       "      <td>0.0</td>\n",
       "      <td>0.0</td>\n",
       "      <td>0.0</td>\n",
       "      <td>0.0</td>\n",
       "      <td>0.0</td>\n",
       "      <td>1.0</td>\n",
       "      <td>0.0</td>\n",
       "      <td>3.0</td>\n",
       "      <td>32.0</td>\n",
       "      <td>9.0</td>\n",
       "      <td>3.0</td>\n",
       "      <td>3.0</td>\n",
       "      <td>17.0</td>\n",
       "    </tr>\n",
       "    <tr>\n",
       "      <th>1</th>\n",
       "      <td>1.0</td>\n",
       "      <td>0.0</td>\n",
       "      <td>1.0</td>\n",
       "      <td>0.0</td>\n",
       "      <td>0.0</td>\n",
       "      <td>0.0</td>\n",
       "      <td>0.0</td>\n",
       "      <td>0.0</td>\n",
       "      <td>1.0</td>\n",
       "      <td>0.0</td>\n",
       "      <td>0.0</td>\n",
       "      <td>3.0</td>\n",
       "      <td>27.0</td>\n",
       "      <td>13.0</td>\n",
       "      <td>3.0</td>\n",
       "      <td>1.0</td>\n",
       "      <td>14.0</td>\n",
       "    </tr>\n",
       "    <tr>\n",
       "      <th>2</th>\n",
       "      <td>1.0</td>\n",
       "      <td>0.0</td>\n",
       "      <td>1.0</td>\n",
       "      <td>0.0</td>\n",
       "      <td>0.0</td>\n",
       "      <td>0.0</td>\n",
       "      <td>0.0</td>\n",
       "      <td>0.0</td>\n",
       "      <td>0.0</td>\n",
       "      <td>1.0</td>\n",
       "      <td>0.0</td>\n",
       "      <td>4.0</td>\n",
       "      <td>22.0</td>\n",
       "      <td>2.5</td>\n",
       "      <td>0.0</td>\n",
       "      <td>1.0</td>\n",
       "      <td>16.0</td>\n",
       "    </tr>\n",
       "    <tr>\n",
       "      <th>3</th>\n",
       "      <td>1.0</td>\n",
       "      <td>0.0</td>\n",
       "      <td>0.0</td>\n",
       "      <td>0.0</td>\n",
       "      <td>1.0</td>\n",
       "      <td>0.0</td>\n",
       "      <td>0.0</td>\n",
       "      <td>0.0</td>\n",
       "      <td>0.0</td>\n",
       "      <td>1.0</td>\n",
       "      <td>0.0</td>\n",
       "      <td>4.0</td>\n",
       "      <td>37.0</td>\n",
       "      <td>16.5</td>\n",
       "      <td>4.0</td>\n",
       "      <td>3.0</td>\n",
       "      <td>16.0</td>\n",
       "    </tr>\n",
       "    <tr>\n",
       "      <th>4</th>\n",
       "      <td>1.0</td>\n",
       "      <td>0.0</td>\n",
       "      <td>1.0</td>\n",
       "      <td>0.0</td>\n",
       "      <td>0.0</td>\n",
       "      <td>0.0</td>\n",
       "      <td>0.0</td>\n",
       "      <td>0.0</td>\n",
       "      <td>1.0</td>\n",
       "      <td>0.0</td>\n",
       "      <td>0.0</td>\n",
       "      <td>5.0</td>\n",
       "      <td>27.0</td>\n",
       "      <td>9.0</td>\n",
       "      <td>1.0</td>\n",
       "      <td>1.0</td>\n",
       "      <td>14.0</td>\n",
       "    </tr>\n",
       "  </tbody>\n",
       "</table>\n",
       "</div>"
      ],
      "text/plain": [
       "   Intercept  occ_2  occ_3  occ_4  occ_5  occ_6  occ_husb_2  occ_husb_3  \\\n",
       "0        1.0    1.0    0.0    0.0    0.0    0.0         0.0         0.0   \n",
       "1        1.0    0.0    1.0    0.0    0.0    0.0         0.0         0.0   \n",
       "2        1.0    0.0    1.0    0.0    0.0    0.0         0.0         0.0   \n",
       "3        1.0    0.0    0.0    0.0    1.0    0.0         0.0         0.0   \n",
       "4        1.0    0.0    1.0    0.0    0.0    0.0         0.0         0.0   \n",
       "\n",
       "   occ_husb_4  occ_husb_5  occ_husb_6  rate_marriage   age  yrs_married  \\\n",
       "0         0.0         1.0         0.0            3.0  32.0          9.0   \n",
       "1         1.0         0.0         0.0            3.0  27.0         13.0   \n",
       "2         0.0         1.0         0.0            4.0  22.0          2.5   \n",
       "3         0.0         1.0         0.0            4.0  37.0         16.5   \n",
       "4         1.0         0.0         0.0            5.0  27.0          9.0   \n",
       "\n",
       "   children  religious  educ  \n",
       "0       3.0        3.0  17.0  \n",
       "1       3.0        1.0  14.0  \n",
       "2       0.0        1.0  16.0  \n",
       "3       4.0        3.0  16.0  \n",
       "4       1.0        1.0  14.0  "
      ]
     },
     "execution_count": 13,
     "metadata": {},
     "output_type": "execute_result"
    }
   ],
   "source": [
    "X.head()"
   ]
  },
  {
   "cell_type": "markdown",
   "metadata": {},
   "source": [
    "## About Y - Output"
   ]
  },
  {
   "cell_type": "code",
   "execution_count": 14,
   "metadata": {},
   "outputs": [
    {
     "data": {
      "text/plain": [
       "pandas.core.frame.DataFrame"
      ]
     },
     "execution_count": 14,
     "metadata": {},
     "output_type": "execute_result"
    }
   ],
   "source": [
    "type(Y)"
   ]
  },
  {
   "cell_type": "code",
   "execution_count": 15,
   "metadata": {},
   "outputs": [
    {
     "data": {
      "text/plain": [
       "(6366, 1)"
      ]
     },
     "execution_count": 15,
     "metadata": {},
     "output_type": "execute_result"
    }
   ],
   "source": [
    "Y.shape"
   ]
  },
  {
   "cell_type": "code",
   "execution_count": 16,
   "metadata": {},
   "outputs": [
    {
     "data": {
      "text/plain": [
       "Index(['affair'], dtype='object')"
      ]
     },
     "execution_count": 16,
     "metadata": {},
     "output_type": "execute_result"
    }
   ],
   "source": [
    "Y.columns"
   ]
  },
  {
   "cell_type": "code",
   "execution_count": 17,
   "metadata": {
    "scrolled": true
   },
   "outputs": [
    {
     "data": {
      "text/html": [
       "<div>\n",
       "<style scoped>\n",
       "    .dataframe tbody tr th:only-of-type {\n",
       "        vertical-align: middle;\n",
       "    }\n",
       "\n",
       "    .dataframe tbody tr th {\n",
       "        vertical-align: top;\n",
       "    }\n",
       "\n",
       "    .dataframe thead th {\n",
       "        text-align: right;\n",
       "    }\n",
       "</style>\n",
       "<table border=\"1\" class=\"dataframe\">\n",
       "  <thead>\n",
       "    <tr style=\"text-align: right;\">\n",
       "      <th></th>\n",
       "      <th>affair</th>\n",
       "    </tr>\n",
       "  </thead>\n",
       "  <tbody>\n",
       "    <tr>\n",
       "      <th>0</th>\n",
       "      <td>1.0</td>\n",
       "    </tr>\n",
       "    <tr>\n",
       "      <th>1</th>\n",
       "      <td>1.0</td>\n",
       "    </tr>\n",
       "    <tr>\n",
       "      <th>2</th>\n",
       "      <td>1.0</td>\n",
       "    </tr>\n",
       "    <tr>\n",
       "      <th>3</th>\n",
       "      <td>1.0</td>\n",
       "    </tr>\n",
       "    <tr>\n",
       "      <th>4</th>\n",
       "      <td>1.0</td>\n",
       "    </tr>\n",
       "  </tbody>\n",
       "</table>\n",
       "</div>"
      ],
      "text/plain": [
       "   affair\n",
       "0     1.0\n",
       "1     1.0\n",
       "2     1.0\n",
       "3     1.0\n",
       "4     1.0"
      ]
     },
     "execution_count": 17,
     "metadata": {},
     "output_type": "execute_result"
    }
   ],
   "source": [
    "Y.head()"
   ]
  },
  {
   "cell_type": "markdown",
   "metadata": {},
   "source": [
    "# Data Wrangling\n"
   ]
  },
  {
   "cell_type": "markdown",
   "metadata": {},
   "source": [
    "Creating a new dataframe from X and Y to makes sure rows are removed from X and Y are the same if some rows are required to be removed when wrangling the data or some transformation or removing outliers etc."
   ]
  },
  {
   "cell_type": "code",
   "execution_count": 18,
   "metadata": {},
   "outputs": [],
   "source": [
    "affairs_data = X\n",
    "affairs_data[\"affair\"]=Y"
   ]
  },
  {
   "cell_type": "code",
   "execution_count": 19,
   "metadata": {},
   "outputs": [
    {
     "data": {
      "text/html": [
       "<div>\n",
       "<style scoped>\n",
       "    .dataframe tbody tr th:only-of-type {\n",
       "        vertical-align: middle;\n",
       "    }\n",
       "\n",
       "    .dataframe tbody tr th {\n",
       "        vertical-align: top;\n",
       "    }\n",
       "\n",
       "    .dataframe thead th {\n",
       "        text-align: right;\n",
       "    }\n",
       "</style>\n",
       "<table border=\"1\" class=\"dataframe\">\n",
       "  <thead>\n",
       "    <tr style=\"text-align: right;\">\n",
       "      <th></th>\n",
       "      <th>Intercept</th>\n",
       "      <th>occ_2</th>\n",
       "      <th>occ_3</th>\n",
       "      <th>occ_4</th>\n",
       "      <th>occ_5</th>\n",
       "      <th>occ_6</th>\n",
       "      <th>occ_husb_2</th>\n",
       "      <th>occ_husb_3</th>\n",
       "      <th>occ_husb_4</th>\n",
       "      <th>occ_husb_5</th>\n",
       "      <th>occ_husb_6</th>\n",
       "      <th>rate_marriage</th>\n",
       "      <th>age</th>\n",
       "      <th>yrs_married</th>\n",
       "      <th>children</th>\n",
       "      <th>religious</th>\n",
       "      <th>educ</th>\n",
       "      <th>affair</th>\n",
       "    </tr>\n",
       "  </thead>\n",
       "  <tbody>\n",
       "    <tr>\n",
       "      <th>0</th>\n",
       "      <td>1.0</td>\n",
       "      <td>1.0</td>\n",
       "      <td>0.0</td>\n",
       "      <td>0.0</td>\n",
       "      <td>0.0</td>\n",
       "      <td>0.0</td>\n",
       "      <td>0.0</td>\n",
       "      <td>0.0</td>\n",
       "      <td>0.0</td>\n",
       "      <td>1.0</td>\n",
       "      <td>0.0</td>\n",
       "      <td>3.0</td>\n",
       "      <td>32.0</td>\n",
       "      <td>9.0</td>\n",
       "      <td>3.0</td>\n",
       "      <td>3.0</td>\n",
       "      <td>17.0</td>\n",
       "      <td>1.0</td>\n",
       "    </tr>\n",
       "    <tr>\n",
       "      <th>1</th>\n",
       "      <td>1.0</td>\n",
       "      <td>0.0</td>\n",
       "      <td>1.0</td>\n",
       "      <td>0.0</td>\n",
       "      <td>0.0</td>\n",
       "      <td>0.0</td>\n",
       "      <td>0.0</td>\n",
       "      <td>0.0</td>\n",
       "      <td>1.0</td>\n",
       "      <td>0.0</td>\n",
       "      <td>0.0</td>\n",
       "      <td>3.0</td>\n",
       "      <td>27.0</td>\n",
       "      <td>13.0</td>\n",
       "      <td>3.0</td>\n",
       "      <td>1.0</td>\n",
       "      <td>14.0</td>\n",
       "      <td>1.0</td>\n",
       "    </tr>\n",
       "    <tr>\n",
       "      <th>2</th>\n",
       "      <td>1.0</td>\n",
       "      <td>0.0</td>\n",
       "      <td>1.0</td>\n",
       "      <td>0.0</td>\n",
       "      <td>0.0</td>\n",
       "      <td>0.0</td>\n",
       "      <td>0.0</td>\n",
       "      <td>0.0</td>\n",
       "      <td>0.0</td>\n",
       "      <td>1.0</td>\n",
       "      <td>0.0</td>\n",
       "      <td>4.0</td>\n",
       "      <td>22.0</td>\n",
       "      <td>2.5</td>\n",
       "      <td>0.0</td>\n",
       "      <td>1.0</td>\n",
       "      <td>16.0</td>\n",
       "      <td>1.0</td>\n",
       "    </tr>\n",
       "    <tr>\n",
       "      <th>3</th>\n",
       "      <td>1.0</td>\n",
       "      <td>0.0</td>\n",
       "      <td>0.0</td>\n",
       "      <td>0.0</td>\n",
       "      <td>1.0</td>\n",
       "      <td>0.0</td>\n",
       "      <td>0.0</td>\n",
       "      <td>0.0</td>\n",
       "      <td>0.0</td>\n",
       "      <td>1.0</td>\n",
       "      <td>0.0</td>\n",
       "      <td>4.0</td>\n",
       "      <td>37.0</td>\n",
       "      <td>16.5</td>\n",
       "      <td>4.0</td>\n",
       "      <td>3.0</td>\n",
       "      <td>16.0</td>\n",
       "      <td>1.0</td>\n",
       "    </tr>\n",
       "    <tr>\n",
       "      <th>4</th>\n",
       "      <td>1.0</td>\n",
       "      <td>0.0</td>\n",
       "      <td>1.0</td>\n",
       "      <td>0.0</td>\n",
       "      <td>0.0</td>\n",
       "      <td>0.0</td>\n",
       "      <td>0.0</td>\n",
       "      <td>0.0</td>\n",
       "      <td>1.0</td>\n",
       "      <td>0.0</td>\n",
       "      <td>0.0</td>\n",
       "      <td>5.0</td>\n",
       "      <td>27.0</td>\n",
       "      <td>9.0</td>\n",
       "      <td>1.0</td>\n",
       "      <td>1.0</td>\n",
       "      <td>14.0</td>\n",
       "      <td>1.0</td>\n",
       "    </tr>\n",
       "  </tbody>\n",
       "</table>\n",
       "</div>"
      ],
      "text/plain": [
       "   Intercept  occ_2  occ_3  occ_4  occ_5  occ_6  occ_husb_2  occ_husb_3  \\\n",
       "0        1.0    1.0    0.0    0.0    0.0    0.0         0.0         0.0   \n",
       "1        1.0    0.0    1.0    0.0    0.0    0.0         0.0         0.0   \n",
       "2        1.0    0.0    1.0    0.0    0.0    0.0         0.0         0.0   \n",
       "3        1.0    0.0    0.0    0.0    1.0    0.0         0.0         0.0   \n",
       "4        1.0    0.0    1.0    0.0    0.0    0.0         0.0         0.0   \n",
       "\n",
       "   occ_husb_4  occ_husb_5  occ_husb_6  rate_marriage   age  yrs_married  \\\n",
       "0         0.0         1.0         0.0            3.0  32.0          9.0   \n",
       "1         1.0         0.0         0.0            3.0  27.0         13.0   \n",
       "2         0.0         1.0         0.0            4.0  22.0          2.5   \n",
       "3         0.0         1.0         0.0            4.0  37.0         16.5   \n",
       "4         1.0         0.0         0.0            5.0  27.0          9.0   \n",
       "\n",
       "   children  religious  educ  affair  \n",
       "0       3.0        3.0  17.0     1.0  \n",
       "1       3.0        1.0  14.0     1.0  \n",
       "2       0.0        1.0  16.0     1.0  \n",
       "3       4.0        3.0  16.0     1.0  \n",
       "4       1.0        1.0  14.0     1.0  "
      ]
     },
     "execution_count": 19,
     "metadata": {},
     "output_type": "execute_result"
    }
   ],
   "source": [
    "affairs_data.head()"
   ]
  },
  {
   "cell_type": "code",
   "execution_count": 20,
   "metadata": {},
   "outputs": [
    {
     "data": {
      "text/plain": [
       "Index(['Intercept', 'occ_2', 'occ_3', 'occ_4', 'occ_5', 'occ_6', 'occ_husb_2',\n",
       "       'occ_husb_3', 'occ_husb_4', 'occ_husb_5', 'occ_husb_6', 'rate_marriage',\n",
       "       'age', 'yrs_married', 'children', 'religious', 'educ', 'affair'],\n",
       "      dtype='object')"
      ]
     },
     "execution_count": 20,
     "metadata": {},
     "output_type": "execute_result"
    }
   ],
   "source": [
    "affairs_data.columns"
   ]
  },
  {
   "cell_type": "code",
   "execution_count": 21,
   "metadata": {},
   "outputs": [
    {
     "data": {
      "text/plain": [
       "(6366, 18)"
      ]
     },
     "execution_count": 21,
     "metadata": {},
     "output_type": "execute_result"
    }
   ],
   "source": [
    "affairs_data.shape"
   ]
  },
  {
   "cell_type": "code",
   "execution_count": 22,
   "metadata": {},
   "outputs": [
    {
     "name": "stdout",
     "output_type": "stream",
     "text": [
      "<class 'pandas.core.frame.DataFrame'>\n",
      "Int64Index: 6366 entries, 0 to 6365\n",
      "Data columns (total 18 columns):\n",
      "Intercept        6366 non-null float64\n",
      "occ_2            6366 non-null float64\n",
      "occ_3            6366 non-null float64\n",
      "occ_4            6366 non-null float64\n",
      "occ_5            6366 non-null float64\n",
      "occ_6            6366 non-null float64\n",
      "occ_husb_2       6366 non-null float64\n",
      "occ_husb_3       6366 non-null float64\n",
      "occ_husb_4       6366 non-null float64\n",
      "occ_husb_5       6366 non-null float64\n",
      "occ_husb_6       6366 non-null float64\n",
      "rate_marriage    6366 non-null float64\n",
      "age              6366 non-null float64\n",
      "yrs_married      6366 non-null float64\n",
      "children         6366 non-null float64\n",
      "religious        6366 non-null float64\n",
      "educ             6366 non-null float64\n",
      "affair           6366 non-null float64\n",
      "dtypes: float64(18)\n",
      "memory usage: 945.0 KB\n"
     ]
    }
   ],
   "source": [
    "affairs_data.info()"
   ]
  },
  {
   "cell_type": "markdown",
   "metadata": {},
   "source": [
    " This is already a cleaned dataset, no need to do anything"
   ]
  },
  {
   "cell_type": "markdown",
   "metadata": {},
   "source": [
    "# Basic Statistical Information"
   ]
  },
  {
   "cell_type": "code",
   "execution_count": 23,
   "metadata": {},
   "outputs": [
    {
     "name": "stdout",
     "output_type": "stream",
     "text": [
      "       Intercept        occ_2        occ_3        occ_4        occ_5  \\\n",
      "count     6366.0  6366.000000  6366.000000  6366.000000  6366.000000   \n",
      "mean         1.0     0.134936     0.437166     0.288093     0.116243   \n",
      "std          0.0     0.341682     0.496075     0.452910     0.320541   \n",
      "min          1.0     0.000000     0.000000     0.000000     0.000000   \n",
      "25%          1.0     0.000000     0.000000     0.000000     0.000000   \n",
      "50%          1.0     0.000000     0.000000     0.000000     0.000000   \n",
      "75%          1.0     0.000000     1.000000     1.000000     0.000000   \n",
      "max          1.0     1.000000     1.000000     1.000000     1.000000   \n",
      "\n",
      "             occ_6   occ_husb_2   occ_husb_3   occ_husb_4   occ_husb_5  \\\n",
      "count  6366.000000  6366.000000  6366.000000  6366.000000  6366.000000   \n",
      "mean      0.017122     0.205467     0.076971     0.318882     0.279453   \n",
      "std       0.129737     0.404074     0.266567     0.466080     0.448766   \n",
      "min       0.000000     0.000000     0.000000     0.000000     0.000000   \n",
      "25%       0.000000     0.000000     0.000000     0.000000     0.000000   \n",
      "50%       0.000000     0.000000     0.000000     0.000000     0.000000   \n",
      "75%       0.000000     0.000000     0.000000     1.000000     1.000000   \n",
      "max       1.000000     1.000000     1.000000     1.000000     1.000000   \n",
      "\n",
      "        occ_husb_6  rate_marriage          age  yrs_married     children  \\\n",
      "count  6366.000000    6366.000000  6366.000000  6366.000000  6366.000000   \n",
      "mean      0.083255       4.109645    29.082862     9.009425     1.396874   \n",
      "std       0.276289       0.961430     6.847882     7.280120     1.433471   \n",
      "min       0.000000       1.000000    17.500000     0.500000     0.000000   \n",
      "25%       0.000000       4.000000    22.000000     2.500000     0.000000   \n",
      "50%       0.000000       4.000000    27.000000     6.000000     1.000000   \n",
      "75%       0.000000       5.000000    32.000000    16.500000     2.000000   \n",
      "max       1.000000       5.000000    42.000000    23.000000     5.500000   \n",
      "\n",
      "         religious         educ       affair  \n",
      "count  6366.000000  6366.000000  6366.000000  \n",
      "mean      2.426170    14.209865     0.322495  \n",
      "std       0.878369     2.178003     0.467468  \n",
      "min       1.000000     9.000000     0.000000  \n",
      "25%       2.000000    12.000000     0.000000  \n",
      "50%       2.000000    14.000000     0.000000  \n",
      "75%       3.000000    16.000000     1.000000  \n",
      "max       4.000000    20.000000     1.000000  \n"
     ]
    }
   ],
   "source": [
    "# All the columns are NUMERICAL. There is no categorical data to consider\n",
    "print(affairs_data.describe())"
   ]
  },
  {
   "cell_type": "code",
   "execution_count": 24,
   "metadata": {
    "scrolled": false
   },
   "outputs": [
    {
     "data": {
      "text/html": [
       "<div>\n",
       "<style scoped>\n",
       "    .dataframe tbody tr th:only-of-type {\n",
       "        vertical-align: middle;\n",
       "    }\n",
       "\n",
       "    .dataframe tbody tr th {\n",
       "        vertical-align: top;\n",
       "    }\n",
       "\n",
       "    .dataframe thead th {\n",
       "        text-align: right;\n",
       "    }\n",
       "</style>\n",
       "<table border=\"1\" class=\"dataframe\">\n",
       "  <thead>\n",
       "    <tr style=\"text-align: right;\">\n",
       "      <th></th>\n",
       "      <th>Intercept</th>\n",
       "      <th>occ_2</th>\n",
       "      <th>occ_3</th>\n",
       "      <th>occ_4</th>\n",
       "      <th>occ_5</th>\n",
       "      <th>occ_6</th>\n",
       "      <th>occ_husb_2</th>\n",
       "      <th>occ_husb_3</th>\n",
       "      <th>occ_husb_4</th>\n",
       "      <th>occ_husb_5</th>\n",
       "      <th>occ_husb_6</th>\n",
       "      <th>rate_marriage</th>\n",
       "      <th>age</th>\n",
       "      <th>yrs_married</th>\n",
       "      <th>children</th>\n",
       "      <th>religious</th>\n",
       "      <th>educ</th>\n",
       "      <th>affair</th>\n",
       "    </tr>\n",
       "  </thead>\n",
       "  <tbody>\n",
       "    <tr>\n",
       "      <th>Intercept</th>\n",
       "      <td>NaN</td>\n",
       "      <td>NaN</td>\n",
       "      <td>NaN</td>\n",
       "      <td>NaN</td>\n",
       "      <td>NaN</td>\n",
       "      <td>NaN</td>\n",
       "      <td>NaN</td>\n",
       "      <td>NaN</td>\n",
       "      <td>NaN</td>\n",
       "      <td>NaN</td>\n",
       "      <td>NaN</td>\n",
       "      <td>NaN</td>\n",
       "      <td>NaN</td>\n",
       "      <td>NaN</td>\n",
       "      <td>NaN</td>\n",
       "      <td>NaN</td>\n",
       "      <td>NaN</td>\n",
       "      <td>NaN</td>\n",
       "    </tr>\n",
       "    <tr>\n",
       "      <th>occ_2</th>\n",
       "      <td>NaN</td>\n",
       "      <td>1.000000</td>\n",
       "      <td>-0.348075</td>\n",
       "      <td>-0.251243</td>\n",
       "      <td>-0.143237</td>\n",
       "      <td>-0.052128</td>\n",
       "      <td>0.183782</td>\n",
       "      <td>-0.020904</td>\n",
       "      <td>-0.009786</td>\n",
       "      <td>-0.093292</td>\n",
       "      <td>-0.059107</td>\n",
       "      <td>-0.019697</td>\n",
       "      <td>-0.034223</td>\n",
       "      <td>0.004668</td>\n",
       "      <td>0.081182</td>\n",
       "      <td>-0.013129</td>\n",
       "      <td>-0.217719</td>\n",
       "      <td>-0.024613</td>\n",
       "    </tr>\n",
       "    <tr>\n",
       "      <th>occ_3</th>\n",
       "      <td>NaN</td>\n",
       "      <td>-0.348075</td>\n",
       "      <td>1.000000</td>\n",
       "      <td>-0.560645</td>\n",
       "      <td>-0.319631</td>\n",
       "      <td>-0.116322</td>\n",
       "      <td>-0.000638</td>\n",
       "      <td>0.090043</td>\n",
       "      <td>0.011248</td>\n",
       "      <td>0.003021</td>\n",
       "      <td>-0.101673</td>\n",
       "      <td>-0.053082</td>\n",
       "      <td>-0.066371</td>\n",
       "      <td>-0.021261</td>\n",
       "      <td>-0.063298</td>\n",
       "      <td>-0.034986</td>\n",
       "      <td>-0.335615</td>\n",
       "      <td>0.045729</td>\n",
       "    </tr>\n",
       "    <tr>\n",
       "      <th>occ_4</th>\n",
       "      <td>NaN</td>\n",
       "      <td>-0.251243</td>\n",
       "      <td>-0.560645</td>\n",
       "      <td>1.000000</td>\n",
       "      <td>-0.230712</td>\n",
       "      <td>-0.083962</td>\n",
       "      <td>-0.083123</td>\n",
       "      <td>-0.043159</td>\n",
       "      <td>0.037341</td>\n",
       "      <td>-0.001946</td>\n",
       "      <td>0.085766</td>\n",
       "      <td>0.068882</td>\n",
       "      <td>0.040982</td>\n",
       "      <td>-0.026816</td>\n",
       "      <td>-0.003235</td>\n",
       "      <td>0.043996</td>\n",
       "      <td>0.477505</td>\n",
       "      <td>-0.082706</td>\n",
       "    </tr>\n",
       "    <tr>\n",
       "      <th>occ_5</th>\n",
       "      <td>NaN</td>\n",
       "      <td>-0.143237</td>\n",
       "      <td>-0.319631</td>\n",
       "      <td>-0.230712</td>\n",
       "      <td>1.000000</td>\n",
       "      <td>-0.047868</td>\n",
       "      <td>-0.053426</td>\n",
       "      <td>-0.044053</td>\n",
       "      <td>-0.039932</td>\n",
       "      <td>0.114903</td>\n",
       "      <td>0.006016</td>\n",
       "      <td>-0.002109</td>\n",
       "      <td>0.079533</td>\n",
       "      <td>0.076820</td>\n",
       "      <td>0.033274</td>\n",
       "      <td>0.004260</td>\n",
       "      <td>-0.022121</td>\n",
       "      <td>0.073766</td>\n",
       "    </tr>\n",
       "    <tr>\n",
       "      <th>occ_6</th>\n",
       "      <td>NaN</td>\n",
       "      <td>-0.052128</td>\n",
       "      <td>-0.116322</td>\n",
       "      <td>-0.083962</td>\n",
       "      <td>-0.047868</td>\n",
       "      <td>1.000000</td>\n",
       "      <td>-0.046140</td>\n",
       "      <td>-0.029028</td>\n",
       "      <td>-0.043541</td>\n",
       "      <td>-0.030926</td>\n",
       "      <td>0.218824</td>\n",
       "      <td>0.008878</td>\n",
       "      <td>0.030676</td>\n",
       "      <td>-0.004912</td>\n",
       "      <td>-0.026830</td>\n",
       "      <td>0.011784</td>\n",
       "      <td>0.226920</td>\n",
       "      <td>0.012559</td>\n",
       "    </tr>\n",
       "    <tr>\n",
       "      <th>occ_husb_2</th>\n",
       "      <td>NaN</td>\n",
       "      <td>0.183782</td>\n",
       "      <td>-0.000638</td>\n",
       "      <td>-0.083123</td>\n",
       "      <td>-0.053426</td>\n",
       "      <td>-0.046140</td>\n",
       "      <td>1.000000</td>\n",
       "      <td>-0.146849</td>\n",
       "      <td>-0.347951</td>\n",
       "      <td>-0.316693</td>\n",
       "      <td>-0.153248</td>\n",
       "      <td>-0.038992</td>\n",
       "      <td>-0.057368</td>\n",
       "      <td>-0.033451</td>\n",
       "      <td>0.001190</td>\n",
       "      <td>0.009990</td>\n",
       "      <td>-0.160756</td>\n",
       "      <td>0.003474</td>\n",
       "    </tr>\n",
       "    <tr>\n",
       "      <th>occ_husb_3</th>\n",
       "      <td>NaN</td>\n",
       "      <td>-0.020904</td>\n",
       "      <td>0.090043</td>\n",
       "      <td>-0.043159</td>\n",
       "      <td>-0.044053</td>\n",
       "      <td>-0.029028</td>\n",
       "      <td>-0.146849</td>\n",
       "      <td>1.000000</td>\n",
       "      <td>-0.197588</td>\n",
       "      <td>-0.179838</td>\n",
       "      <td>-0.087024</td>\n",
       "      <td>-0.022514</td>\n",
       "      <td>0.011610</td>\n",
       "      <td>0.008046</td>\n",
       "      <td>-0.005538</td>\n",
       "      <td>0.008170</td>\n",
       "      <td>-0.052723</td>\n",
       "      <td>0.018884</td>\n",
       "    </tr>\n",
       "    <tr>\n",
       "      <th>occ_husb_4</th>\n",
       "      <td>NaN</td>\n",
       "      <td>-0.009786</td>\n",
       "      <td>0.011248</td>\n",
       "      <td>0.037341</td>\n",
       "      <td>-0.039932</td>\n",
       "      <td>-0.043541</td>\n",
       "      <td>-0.347951</td>\n",
       "      <td>-0.197588</td>\n",
       "      <td>1.000000</td>\n",
       "      <td>-0.426115</td>\n",
       "      <td>-0.206198</td>\n",
       "      <td>0.003303</td>\n",
       "      <td>-0.048989</td>\n",
       "      <td>-0.031121</td>\n",
       "      <td>-0.008032</td>\n",
       "      <td>-0.008491</td>\n",
       "      <td>-0.031422</td>\n",
       "      <td>-0.011295</td>\n",
       "    </tr>\n",
       "    <tr>\n",
       "      <th>occ_husb_5</th>\n",
       "      <td>NaN</td>\n",
       "      <td>-0.093292</td>\n",
       "      <td>0.003021</td>\n",
       "      <td>-0.001946</td>\n",
       "      <td>0.114903</td>\n",
       "      <td>-0.030926</td>\n",
       "      <td>-0.316693</td>\n",
       "      <td>-0.179838</td>\n",
       "      <td>-0.426115</td>\n",
       "      <td>1.000000</td>\n",
       "      <td>-0.187674</td>\n",
       "      <td>0.003256</td>\n",
       "      <td>0.105525</td>\n",
       "      <td>0.092462</td>\n",
       "      <td>0.053965</td>\n",
       "      <td>-0.000063</td>\n",
       "      <td>0.042540</td>\n",
       "      <td>0.021181</td>\n",
       "    </tr>\n",
       "    <tr>\n",
       "      <th>occ_husb_6</th>\n",
       "      <td>NaN</td>\n",
       "      <td>-0.059107</td>\n",
       "      <td>-0.101673</td>\n",
       "      <td>0.085766</td>\n",
       "      <td>0.006016</td>\n",
       "      <td>0.218824</td>\n",
       "      <td>-0.153248</td>\n",
       "      <td>-0.087024</td>\n",
       "      <td>-0.206198</td>\n",
       "      <td>-0.187674</td>\n",
       "      <td>1.000000</td>\n",
       "      <td>0.039561</td>\n",
       "      <td>0.083212</td>\n",
       "      <td>0.042921</td>\n",
       "      <td>0.024260</td>\n",
       "      <td>0.006558</td>\n",
       "      <td>0.223167</td>\n",
       "      <td>-0.007204</td>\n",
       "    </tr>\n",
       "    <tr>\n",
       "      <th>rate_marriage</th>\n",
       "      <td>NaN</td>\n",
       "      <td>-0.019697</td>\n",
       "      <td>-0.053082</td>\n",
       "      <td>0.068882</td>\n",
       "      <td>-0.002109</td>\n",
       "      <td>0.008878</td>\n",
       "      <td>-0.038992</td>\n",
       "      <td>-0.022514</td>\n",
       "      <td>0.003303</td>\n",
       "      <td>0.003256</td>\n",
       "      <td>0.039561</td>\n",
       "      <td>1.000000</td>\n",
       "      <td>-0.111127</td>\n",
       "      <td>-0.128978</td>\n",
       "      <td>-0.129161</td>\n",
       "      <td>0.078794</td>\n",
       "      <td>0.079869</td>\n",
       "      <td>-0.331776</td>\n",
       "    </tr>\n",
       "    <tr>\n",
       "      <th>age</th>\n",
       "      <td>NaN</td>\n",
       "      <td>-0.034223</td>\n",
       "      <td>-0.066371</td>\n",
       "      <td>0.040982</td>\n",
       "      <td>0.079533</td>\n",
       "      <td>0.030676</td>\n",
       "      <td>-0.057368</td>\n",
       "      <td>0.011610</td>\n",
       "      <td>-0.048989</td>\n",
       "      <td>0.105525</td>\n",
       "      <td>0.083212</td>\n",
       "      <td>-0.111127</td>\n",
       "      <td>1.000000</td>\n",
       "      <td>0.894082</td>\n",
       "      <td>0.673902</td>\n",
       "      <td>0.136598</td>\n",
       "      <td>0.027960</td>\n",
       "      <td>0.146519</td>\n",
       "    </tr>\n",
       "    <tr>\n",
       "      <th>yrs_married</th>\n",
       "      <td>NaN</td>\n",
       "      <td>0.004668</td>\n",
       "      <td>-0.021261</td>\n",
       "      <td>-0.026816</td>\n",
       "      <td>0.076820</td>\n",
       "      <td>-0.004912</td>\n",
       "      <td>-0.033451</td>\n",
       "      <td>0.008046</td>\n",
       "      <td>-0.031121</td>\n",
       "      <td>0.092462</td>\n",
       "      <td>0.042921</td>\n",
       "      <td>-0.128978</td>\n",
       "      <td>0.894082</td>\n",
       "      <td>1.000000</td>\n",
       "      <td>0.772806</td>\n",
       "      <td>0.132683</td>\n",
       "      <td>-0.109058</td>\n",
       "      <td>0.203109</td>\n",
       "    </tr>\n",
       "    <tr>\n",
       "      <th>children</th>\n",
       "      <td>NaN</td>\n",
       "      <td>0.081182</td>\n",
       "      <td>-0.063298</td>\n",
       "      <td>-0.003235</td>\n",
       "      <td>0.033274</td>\n",
       "      <td>-0.026830</td>\n",
       "      <td>0.001190</td>\n",
       "      <td>-0.005538</td>\n",
       "      <td>-0.008032</td>\n",
       "      <td>0.053965</td>\n",
       "      <td>0.024260</td>\n",
       "      <td>-0.129161</td>\n",
       "      <td>0.673902</td>\n",
       "      <td>0.772806</td>\n",
       "      <td>1.000000</td>\n",
       "      <td>0.141845</td>\n",
       "      <td>-0.141918</td>\n",
       "      <td>0.159833</td>\n",
       "    </tr>\n",
       "    <tr>\n",
       "      <th>religious</th>\n",
       "      <td>NaN</td>\n",
       "      <td>-0.013129</td>\n",
       "      <td>-0.034986</td>\n",
       "      <td>0.043996</td>\n",
       "      <td>0.004260</td>\n",
       "      <td>0.011784</td>\n",
       "      <td>0.009990</td>\n",
       "      <td>0.008170</td>\n",
       "      <td>-0.008491</td>\n",
       "      <td>-0.000063</td>\n",
       "      <td>0.006558</td>\n",
       "      <td>0.078794</td>\n",
       "      <td>0.136598</td>\n",
       "      <td>0.132683</td>\n",
       "      <td>0.141845</td>\n",
       "      <td>1.000000</td>\n",
       "      <td>0.032245</td>\n",
       "      <td>-0.129299</td>\n",
       "    </tr>\n",
       "    <tr>\n",
       "      <th>educ</th>\n",
       "      <td>NaN</td>\n",
       "      <td>-0.217719</td>\n",
       "      <td>-0.335615</td>\n",
       "      <td>0.477505</td>\n",
       "      <td>-0.022121</td>\n",
       "      <td>0.226920</td>\n",
       "      <td>-0.160756</td>\n",
       "      <td>-0.052723</td>\n",
       "      <td>-0.031422</td>\n",
       "      <td>0.042540</td>\n",
       "      <td>0.223167</td>\n",
       "      <td>0.079869</td>\n",
       "      <td>0.027960</td>\n",
       "      <td>-0.109058</td>\n",
       "      <td>-0.141918</td>\n",
       "      <td>0.032245</td>\n",
       "      <td>1.000000</td>\n",
       "      <td>-0.075280</td>\n",
       "    </tr>\n",
       "    <tr>\n",
       "      <th>affair</th>\n",
       "      <td>NaN</td>\n",
       "      <td>-0.024613</td>\n",
       "      <td>0.045729</td>\n",
       "      <td>-0.082706</td>\n",
       "      <td>0.073766</td>\n",
       "      <td>0.012559</td>\n",
       "      <td>0.003474</td>\n",
       "      <td>0.018884</td>\n",
       "      <td>-0.011295</td>\n",
       "      <td>0.021181</td>\n",
       "      <td>-0.007204</td>\n",
       "      <td>-0.331776</td>\n",
       "      <td>0.146519</td>\n",
       "      <td>0.203109</td>\n",
       "      <td>0.159833</td>\n",
       "      <td>-0.129299</td>\n",
       "      <td>-0.075280</td>\n",
       "      <td>1.000000</td>\n",
       "    </tr>\n",
       "  </tbody>\n",
       "</table>\n",
       "</div>"
      ],
      "text/plain": [
       "               Intercept     occ_2     occ_3     occ_4     occ_5     occ_6  \\\n",
       "Intercept            NaN       NaN       NaN       NaN       NaN       NaN   \n",
       "occ_2                NaN  1.000000 -0.348075 -0.251243 -0.143237 -0.052128   \n",
       "occ_3                NaN -0.348075  1.000000 -0.560645 -0.319631 -0.116322   \n",
       "occ_4                NaN -0.251243 -0.560645  1.000000 -0.230712 -0.083962   \n",
       "occ_5                NaN -0.143237 -0.319631 -0.230712  1.000000 -0.047868   \n",
       "occ_6                NaN -0.052128 -0.116322 -0.083962 -0.047868  1.000000   \n",
       "occ_husb_2           NaN  0.183782 -0.000638 -0.083123 -0.053426 -0.046140   \n",
       "occ_husb_3           NaN -0.020904  0.090043 -0.043159 -0.044053 -0.029028   \n",
       "occ_husb_4           NaN -0.009786  0.011248  0.037341 -0.039932 -0.043541   \n",
       "occ_husb_5           NaN -0.093292  0.003021 -0.001946  0.114903 -0.030926   \n",
       "occ_husb_6           NaN -0.059107 -0.101673  0.085766  0.006016  0.218824   \n",
       "rate_marriage        NaN -0.019697 -0.053082  0.068882 -0.002109  0.008878   \n",
       "age                  NaN -0.034223 -0.066371  0.040982  0.079533  0.030676   \n",
       "yrs_married          NaN  0.004668 -0.021261 -0.026816  0.076820 -0.004912   \n",
       "children             NaN  0.081182 -0.063298 -0.003235  0.033274 -0.026830   \n",
       "religious            NaN -0.013129 -0.034986  0.043996  0.004260  0.011784   \n",
       "educ                 NaN -0.217719 -0.335615  0.477505 -0.022121  0.226920   \n",
       "affair               NaN -0.024613  0.045729 -0.082706  0.073766  0.012559   \n",
       "\n",
       "               occ_husb_2  occ_husb_3  occ_husb_4  occ_husb_5  occ_husb_6  \\\n",
       "Intercept             NaN         NaN         NaN         NaN         NaN   \n",
       "occ_2            0.183782   -0.020904   -0.009786   -0.093292   -0.059107   \n",
       "occ_3           -0.000638    0.090043    0.011248    0.003021   -0.101673   \n",
       "occ_4           -0.083123   -0.043159    0.037341   -0.001946    0.085766   \n",
       "occ_5           -0.053426   -0.044053   -0.039932    0.114903    0.006016   \n",
       "occ_6           -0.046140   -0.029028   -0.043541   -0.030926    0.218824   \n",
       "occ_husb_2       1.000000   -0.146849   -0.347951   -0.316693   -0.153248   \n",
       "occ_husb_3      -0.146849    1.000000   -0.197588   -0.179838   -0.087024   \n",
       "occ_husb_4      -0.347951   -0.197588    1.000000   -0.426115   -0.206198   \n",
       "occ_husb_5      -0.316693   -0.179838   -0.426115    1.000000   -0.187674   \n",
       "occ_husb_6      -0.153248   -0.087024   -0.206198   -0.187674    1.000000   \n",
       "rate_marriage   -0.038992   -0.022514    0.003303    0.003256    0.039561   \n",
       "age             -0.057368    0.011610   -0.048989    0.105525    0.083212   \n",
       "yrs_married     -0.033451    0.008046   -0.031121    0.092462    0.042921   \n",
       "children         0.001190   -0.005538   -0.008032    0.053965    0.024260   \n",
       "religious        0.009990    0.008170   -0.008491   -0.000063    0.006558   \n",
       "educ            -0.160756   -0.052723   -0.031422    0.042540    0.223167   \n",
       "affair           0.003474    0.018884   -0.011295    0.021181   -0.007204   \n",
       "\n",
       "               rate_marriage       age  yrs_married  children  religious  \\\n",
       "Intercept                NaN       NaN          NaN       NaN        NaN   \n",
       "occ_2              -0.019697 -0.034223     0.004668  0.081182  -0.013129   \n",
       "occ_3              -0.053082 -0.066371    -0.021261 -0.063298  -0.034986   \n",
       "occ_4               0.068882  0.040982    -0.026816 -0.003235   0.043996   \n",
       "occ_5              -0.002109  0.079533     0.076820  0.033274   0.004260   \n",
       "occ_6               0.008878  0.030676    -0.004912 -0.026830   0.011784   \n",
       "occ_husb_2         -0.038992 -0.057368    -0.033451  0.001190   0.009990   \n",
       "occ_husb_3         -0.022514  0.011610     0.008046 -0.005538   0.008170   \n",
       "occ_husb_4          0.003303 -0.048989    -0.031121 -0.008032  -0.008491   \n",
       "occ_husb_5          0.003256  0.105525     0.092462  0.053965  -0.000063   \n",
       "occ_husb_6          0.039561  0.083212     0.042921  0.024260   0.006558   \n",
       "rate_marriage       1.000000 -0.111127    -0.128978 -0.129161   0.078794   \n",
       "age                -0.111127  1.000000     0.894082  0.673902   0.136598   \n",
       "yrs_married        -0.128978  0.894082     1.000000  0.772806   0.132683   \n",
       "children           -0.129161  0.673902     0.772806  1.000000   0.141845   \n",
       "religious           0.078794  0.136598     0.132683  0.141845   1.000000   \n",
       "educ                0.079869  0.027960    -0.109058 -0.141918   0.032245   \n",
       "affair             -0.331776  0.146519     0.203109  0.159833  -0.129299   \n",
       "\n",
       "                   educ    affair  \n",
       "Intercept           NaN       NaN  \n",
       "occ_2         -0.217719 -0.024613  \n",
       "occ_3         -0.335615  0.045729  \n",
       "occ_4          0.477505 -0.082706  \n",
       "occ_5         -0.022121  0.073766  \n",
       "occ_6          0.226920  0.012559  \n",
       "occ_husb_2    -0.160756  0.003474  \n",
       "occ_husb_3    -0.052723  0.018884  \n",
       "occ_husb_4    -0.031422 -0.011295  \n",
       "occ_husb_5     0.042540  0.021181  \n",
       "occ_husb_6     0.223167 -0.007204  \n",
       "rate_marriage  0.079869 -0.331776  \n",
       "age            0.027960  0.146519  \n",
       "yrs_married   -0.109058  0.203109  \n",
       "children      -0.141918  0.159833  \n",
       "religious      0.032245 -0.129299  \n",
       "educ           1.000000 -0.075280  \n",
       "affair        -0.075280  1.000000  "
      ]
     },
     "execution_count": 24,
     "metadata": {},
     "output_type": "execute_result"
    }
   ],
   "source": [
    "# Measuring the correlation of different columns with each other and the target variable\n",
    "affairs_data.corr()"
   ]
  },
  {
   "cell_type": "markdown",
   "metadata": {},
   "source": [
    "# Visual Analysis OR Exploratory Analysis of the data "
   ]
  },
  {
   "cell_type": "markdown",
   "metadata": {},
   "source": [
    "## Understanding the frequency distribution of the data"
   ]
  },
  {
   "cell_type": "code",
   "execution_count": 25,
   "metadata": {},
   "outputs": [
    {
     "data": {
      "image/png": "[encoded data removed]",
      "text/plain": [
       "<matplotlib.figure.Figure at 0x1fafde614e0>"
      ]
     },
     "metadata": {},
     "output_type": "display_data"
    }
   ],
   "source": [
    "# Plotting the histogram of the data to understand the frequency distribution of the data\n",
    "affairs_data.hist(bins=50,figsize=(20,15))\n",
    "plt.show()"
   ]
  },
  {
   "cell_type": "markdown",
   "metadata": {
    "code_folding": []
   },
   "source": [
    "## Understanding the correlation between variables by using Heatmap"
   ]
  },
  {
   "cell_type": "code",
   "execution_count": 26,
   "metadata": {
    "scrolled": false
   },
   "outputs": [
    {
     "data": {
      "text/plain": [
       "<matplotlib.axes._subplots.AxesSubplot at 0x1fafde7b4a8>"
      ]
     },
     "execution_count": 26,
     "metadata": {},
     "output_type": "execute_result"
    },
    {
     "data": {
      "image/png": "[encoded data removed]",
      "text/plain": [
       "<matplotlib.figure.Figure at 0x1fafe0b3160>"
      ]
     },
     "metadata": {},
     "output_type": "display_data"
    }
   ],
   "source": [
    "# Check for correlations using HEATMAP\n",
    "plt.figure(figsize=(15,15))\n",
    "sns.heatmap(affairs_data.corr())"
   ]
  },
  {
   "cell_type": "markdown",
   "metadata": {},
   "source": [
    "# Fitting Model - Logistic Regression model (Classifier model)"
   ]
  },
  {
   "cell_type": "code",
   "execution_count": 27,
   "metadata": {},
   "outputs": [],
   "source": [
    "# Separating Independent variable from Dependent variable from affair_data dataframe  \n",
    "X = affairs_data.drop(\"affair\",axis =1)\n",
    "Y = affairs_data[\"affair\"]"
   ]
  },
  {
   "cell_type": "code",
   "execution_count": 28,
   "metadata": {},
   "outputs": [
    {
     "data": {
      "text/plain": [
       "0.7258875274897895"
      ]
     },
     "execution_count": 28,
     "metadata": {},
     "output_type": "execute_result"
    }
   ],
   "source": [
    "# Instantiate a logistic regression model, and fit with X and y\n",
    "lr = LogisticRegression()\n",
    "\n",
    "model = lr.fit(X, Y)\n",
    "\n",
    "# check the accuracy on the data\n",
    "model.score(X, Y)"
   ]
  },
  {
   "cell_type": "code",
   "execution_count": 29,
   "metadata": {},
   "outputs": [
    {
     "data": {
      "text/plain": [
       "0.3224945020420987"
      ]
     },
     "execution_count": 29,
     "metadata": {},
     "output_type": "execute_result"
    }
   ],
   "source": [
    "# what percentage had affairs?\n",
    "Y.mean()"
   ]
  },
  {
   "cell_type": "markdown",
   "metadata": {},
   "source": [
    "32% of the women in the dataset had affairs"
   ]
  },
  {
   "cell_type": "code",
   "execution_count": 30,
   "metadata": {},
   "outputs": [],
   "source": [
    "# Predicted values by the model\n",
    "Y_pred = model.predict(X)"
   ]
  },
  {
   "cell_type": "code",
   "execution_count": 31,
   "metadata": {},
   "outputs": [],
   "source": [
    "# Predicted probabilities by the model\n",
    "probs = model.predict_proba(X)"
   ]
  },
  {
   "cell_type": "code",
   "execution_count": 32,
   "metadata": {},
   "outputs": [
    {
     "data": {
      "text/plain": [
       "(Index(['Intercept', 'occ_2', 'occ_3', 'occ_4', 'occ_5', 'occ_6', 'occ_husb_2',\n",
       "        'occ_husb_3', 'occ_husb_4', 'occ_husb_5', 'occ_husb_6', 'rate_marriage',\n",
       "        'age', 'yrs_married', 'children', 'religious', 'educ'],\n",
       "       dtype='object'),\n",
       " array([[ 1.48983606,  0.1880664 ,  0.49894812,  0.25066814,  0.839008  ,\n",
       "          0.83390825,  0.19063622,  0.2978329 ,  0.16140914,  0.18777109,\n",
       "          0.19401647, -0.70311973, -0.05841813,  0.10567669,  0.01691983,\n",
       "         -0.37113512,  0.00401584]]))"
      ]
     },
     "execution_count": 32,
     "metadata": {},
     "output_type": "execute_result"
    }
   ],
   "source": [
    "# examine the coefficients\n",
    "X.columns, model.coef_"
   ]
  },
  {
   "cell_type": "markdown",
   "metadata": {},
   "source": [
    "# Train and Test Split"
   ]
  },
  {
   "cell_type": "code",
   "execution_count": 33,
   "metadata": {},
   "outputs": [],
   "source": [
    "# Splitting the dataset into train and test datasets\n",
    "x_train, x_test, y_train, y_test = train_test_split(X,Y, test_size=0.2, random_state =100)"
   ]
  },
  {
   "cell_type": "markdown",
   "metadata": {},
   "source": [
    "## Checking if the distribution of target variable in the dataset, train set, and test set are similar"
   ]
  },
  {
   "cell_type": "code",
   "execution_count": 34,
   "metadata": {
    "scrolled": true
   },
   "outputs": [
    {
     "data": {
      "image/png": "[encoded data removed]",
      "text/plain": [
       "<matplotlib.figure.Figure at 0x1fafe8a90b8>"
      ]
     },
     "metadata": {},
     "output_type": "display_data"
    }
   ],
   "source": [
    "Y.hist(bins=50,figsize=(10,5))\n",
    "plt.show()"
   ]
  },
  {
   "cell_type": "code",
   "execution_count": 35,
   "metadata": {},
   "outputs": [
    {
     "data": {
      "image/png": "[encoded data removed]",
      "text/plain": [
       "<matplotlib.figure.Figure at 0x1fafe939a20>"
      ]
     },
     "metadata": {},
     "output_type": "display_data"
    }
   ],
   "source": [
    "y_train.hist(bins=50,figsize=(10,5))\n",
    "plt.show()"
   ]
  },
  {
   "cell_type": "code",
   "execution_count": 36,
   "metadata": {
    "scrolled": true
   },
   "outputs": [
    {
     "data": {
      "image/png": "[encoded data removed]",
      "text/plain": [
       "<matplotlib.figure.Figure at 0x1fafec45710>"
      ]
     },
     "metadata": {},
     "output_type": "display_data"
    }
   ],
   "source": [
    "y_test.hist(bins=50,figsize=(10,5))\n",
    "plt.show()"
   ]
  },
  {
   "cell_type": "markdown",
   "metadata": {},
   "source": [
    "# Model Evaluation by using Validation Set(Test Set)"
   ]
  },
  {
   "cell_type": "code",
   "execution_count": 37,
   "metadata": {},
   "outputs": [
    {
     "data": {
      "text/plain": [
       "0.7260408483896308"
      ]
     },
     "execution_count": 37,
     "metadata": {},
     "output_type": "execute_result"
    }
   ],
   "source": [
    "# Instantiate a logistic regression model, and fit with X and y\n",
    "lr_split = LogisticRegression()\n",
    "model_split = lr_split.fit(x_train, y_train)\n",
    "\n",
    "# Check the accuracy on the train data\n",
    "model_split.score(x_train, y_train)"
   ]
  },
  {
   "cell_type": "code",
   "execution_count": 38,
   "metadata": {},
   "outputs": [],
   "source": [
    "# Prediction for Train and Test Dataset\n",
    "y_train_pred = model_split.predict(x_train)\n",
    "y_test_pred = model_split.predict(x_test)"
   ]
  },
  {
   "cell_type": "code",
   "execution_count": 39,
   "metadata": {},
   "outputs": [
    {
     "data": {
      "text/plain": [
       "array([[0.83195551, 0.16804449],\n",
       "       [0.44205531, 0.55794469],\n",
       "       [0.5307897 , 0.4692103 ],\n",
       "       ...,\n",
       "       [0.89149799, 0.10850201],\n",
       "       [0.78825804, 0.21174196],\n",
       "       [0.46094228, 0.53905772]])"
      ]
     },
     "execution_count": 39,
     "metadata": {},
     "output_type": "execute_result"
    }
   ],
   "source": [
    "# Generate class probabilities\n",
    "probs_train = model_split.predict_proba(x_train)\n",
    "probs_train"
   ]
  },
  {
   "cell_type": "code",
   "execution_count": 40,
   "metadata": {
    "scrolled": true
   },
   "outputs": [
    {
     "data": {
      "text/plain": [
       "array([[0.92085352, 0.07914648],\n",
       "       [0.79740686, 0.20259314],\n",
       "       [0.70803717, 0.29196283],\n",
       "       ...,\n",
       "       [0.30757369, 0.69242631],\n",
       "       [0.57305696, 0.42694304],\n",
       "       [0.62689065, 0.37310935]])"
      ]
     },
     "execution_count": 40,
     "metadata": {},
     "output_type": "execute_result"
    }
   ],
   "source": [
    "probs_test = model_split.predict_proba(x_test)\n",
    "probs_test"
   ]
  },
  {
   "cell_type": "markdown",
   "metadata": {},
   "source": [
    "# Model performance metrics"
   ]
  },
  {
   "cell_type": "code",
   "execution_count": 41,
   "metadata": {},
   "outputs": [
    {
     "name": "stdout",
     "output_type": "stream",
     "text": [
      "Performance metrics of the model for the Whole Dataset\n",
      "----------------------------------------------------------------------------------------------------\n",
      "Accuracy:  0.7258875274897895\n",
      "Precision Score:  0.6336805555555556\n",
      "Recall Score:  0.3555772040915733\n",
      "AUROC Score:  0.7473526439228291\n",
      "\n",
      "Confusion Matrix:  \n",
      "  [[3891  422]\n",
      " [1323  730]]\n",
      "\n",
      "Classification Report:               precision    recall  f1-score   support\n",
      "\n",
      "        0.0       0.75      0.90      0.82      4313\n",
      "        1.0       0.63      0.36      0.46      2053\n",
      "\n",
      "avg / total       0.71      0.73      0.70      6366\n",
      "\n"
     ]
    }
   ],
   "source": [
    "# Generate model evaluation metrics for the dataset\n",
    "print(\"Performance metrics of the model for the Whole Dataset\")\n",
    "print(\"-\"*100)\n",
    "print(\"Accuracy: \", metrics.accuracy_score(Y, Y_pred))\n",
    "print(\"Precision Score: \",metrics.precision_score(Y, Y_pred))\n",
    "print(\"Recall Score: \",metrics.recall_score(Y, Y_pred))\n",
    "print(\"AUROC Score: \",metrics.roc_auc_score(Y,  probs[:, 1]))\n",
    "print()\n",
    "print(\"Confusion Matrix:  \\n \",metrics.confusion_matrix(Y, Y_pred))\n",
    "print()\n",
    "print(\"Classification Report: \",metrics.classification_report(Y, Y_pred))"
   ]
  },
  {
   "cell_type": "code",
   "execution_count": 42,
   "metadata": {
    "scrolled": true
   },
   "outputs": [
    {
     "name": "stdout",
     "output_type": "stream",
     "text": [
      "Performance metrics of the model for Train Data\n",
      "----------------------------------------------------------------------------------------------------\n",
      "Accuracy:  0.7260408483896308\n",
      "Precision Score:  0.6319148936170212\n",
      "Recall Score:  0.36153377967133293\n",
      "AUROC Score:  0.7476060611568589\n",
      "\n",
      "Confusion Matrix:  \n",
      "  [[3103  346]\n",
      " [1049  594]]\n",
      "\n",
      "Classification Report:               precision    recall  f1-score   support\n",
      "\n",
      "        0.0       0.75      0.90      0.82      3449\n",
      "        1.0       0.63      0.36      0.46      1643\n",
      "\n",
      "avg / total       0.71      0.73      0.70      5092\n",
      "\n"
     ]
    }
   ],
   "source": [
    "# Generate model evaluation metrics for Train Data\n",
    "print(\"Performance metrics of the model for Train Data\")\n",
    "print(\"-\"*100)\n",
    "print(\"Accuracy: \", metrics.accuracy_score(y_train, y_train_pred))\n",
    "print(\"Precision Score: \",metrics.precision_score(y_train, y_train_pred))\n",
    "print(\"Recall Score: \",metrics.recall_score(y_train, y_train_pred))\n",
    "print(\"AUROC Score: \",metrics.roc_auc_score(y_train, probs_train[:, 1]))\n",
    "print()\n",
    "print(\"Confusion Matrix:  \\n \",metrics.confusion_matrix(y_train, y_train_pred))\n",
    "print()\n",
    "print(\"Classification Report: \",metrics.classification_report(y_train, y_train_pred))"
   ]
  },
  {
   "cell_type": "code",
   "execution_count": 43,
   "metadata": {
    "scrolled": true
   },
   "outputs": [
    {
     "name": "stdout",
     "output_type": "stream",
     "text": [
      "Performance metrics of the model for Test Data\n",
      "----------------------------------------------------------------------------------------------------\n",
      "Accuracy:  0.7221350078492935\n",
      "Precision Score:  0.6320754716981132\n",
      "Recall Score:  0.32682926829268294\n",
      "AUROC Score:  0.7448382452574526\n",
      "\n",
      "Confusion Matrix:  \n",
      "  [[786  78]\n",
      " [276 134]]\n",
      "\n",
      "Classification Report:               precision    recall  f1-score   support\n",
      "\n",
      "        0.0       0.74      0.91      0.82       864\n",
      "        1.0       0.63      0.33      0.43       410\n",
      "\n",
      "avg / total       0.71      0.72      0.69      1274\n",
      "\n"
     ]
    }
   ],
   "source": [
    "# Generate model evaluation metrics for Test Data\n",
    "print(\"Performance metrics of the model for Test Data\")\n",
    "print(\"-\"*100)\n",
    "print(\"Accuracy: \", metrics.accuracy_score(y_test, y_test_pred))\n",
    "print(\"Precision Score: \",metrics.precision_score(y_test, y_test_pred))\n",
    "print(\"Recall Score: \",metrics.recall_score(y_test, y_test_pred))\n",
    "print(\"AUROC Score: \",metrics.roc_auc_score(y_test, probs_test[:, 1]))\n",
    "print()\n",
    "print(\"Confusion Matrix:  \\n \",metrics.confusion_matrix(y_test, y_test_pred))\n",
    "print()\n",
    "print(\"Classification Report: \",metrics.classification_report(y_test, y_test_pred))"
   ]
  },
  {
   "cell_type": "code",
   "execution_count": 44,
   "metadata": {
    "scrolled": true
   },
   "outputs": [
    {
     "data": {
      "text/plain": [
       "(Index(['Intercept', 'occ_2', 'occ_3', 'occ_4', 'occ_5', 'occ_6', 'occ_husb_2',\n",
       "        'occ_husb_3', 'occ_husb_4', 'occ_husb_5', 'occ_husb_6', 'rate_marriage',\n",
       "        'age', 'yrs_married', 'children', 'religious', 'educ'],\n",
       "       dtype='object'), array([[ 1.35266214],\n",
       "        [ 0.1655592 ],\n",
       "        [ 0.50067465],\n",
       "        [ 0.21326755],\n",
       "        [ 0.80038937],\n",
       "        [ 0.72565094],\n",
       "        [ 0.25690772],\n",
       "        [ 0.33134477],\n",
       "        [ 0.28208262],\n",
       "        [ 0.27315884],\n",
       "        [ 0.25886785],\n",
       "        [-0.71865302],\n",
       "        [-0.05854108],\n",
       "        [ 0.10066664],\n",
       "        [ 0.03194604],\n",
       "        [-0.36251335],\n",
       "        [ 0.02364296]]))"
      ]
     },
     "execution_count": 44,
     "metadata": {},
     "output_type": "execute_result"
    }
   ],
   "source": [
    "# Examine the coefficients\n",
    "X.columns, np.transpose(model_split.coef_)"
   ]
  },
  {
   "cell_type": "markdown",
   "metadata": {},
   "source": [
    "# Model Evaluation Using Cross-Validation\n",
    "\n",
    "Trying 10-fold cross-validation, to see if the accuracy holds up more rigorously."
   ]
  },
  {
   "cell_type": "code",
   "execution_count": 45,
   "metadata": {
    "scrolled": true
   },
   "outputs": [
    {
     "data": {
      "text/plain": [
       "(array([0.72100313, 0.70219436, 0.73824451, 0.70597484, 0.70597484,\n",
       "        0.72955975, 0.7327044 , 0.70440252, 0.75157233, 0.75      ]),\n",
       " 0.7241630685514876,\n",
       " 0.00032638921411669265)"
      ]
     },
     "execution_count": 45,
     "metadata": {},
     "output_type": "execute_result"
    }
   ],
   "source": [
    "# Evaluate the model using 10-fold cross-validation\n",
    "scores = cross_val_score(LogisticRegression(), X, Y, scoring='accuracy', cv=10)\n",
    "scores, scores.mean(), scores.var()"
   ]
  },
  {
   "cell_type": "code",
   "execution_count": 46,
   "metadata": {
    "scrolled": true
   },
   "outputs": [
    {
     "name": "stdout",
     "output_type": "stream",
     "text": [
      "0.7258875274897895\n"
     ]
    }
   ],
   "source": [
    "print(metrics.accuracy_score(Y, Y_pred))"
   ]
  },
  {
   "cell_type": "markdown",
   "metadata": {},
   "source": [
    "The accuracy score of the model is close to accuracy of the 10-fold CV score's mean.\n",
    "This means that the model is robust for the dataset\n"
   ]
  },
  {
   "cell_type": "code",
   "execution_count": 47,
   "metadata": {},
   "outputs": [
    {
     "data": {
      "text/plain": [
       "(array([0.71176471, 0.71960784, 0.71960784, 0.74656189, 0.74263261,\n",
       "        0.69941061, 0.74263261, 0.7151277 , 0.72888016, 0.70472441]),\n",
       " 0.7230950381173462,\n",
       " 0.00024622023358885834)"
      ]
     },
     "execution_count": 47,
     "metadata": {},
     "output_type": "execute_result"
    }
   ],
   "source": [
    "# Evaluate the model using 10-fold cross-validation for train data\n",
    "scores = cross_val_score(LogisticRegression(), x_train, y_train, scoring='accuracy', cv=10)\n",
    "scores, scores.mean(), scores.var()"
   ]
  },
  {
   "cell_type": "markdown",
   "metadata": {},
   "source": [
    "# Predicting the Probability of an Affair - For a new datapoint\n",
    "\n",
    "Just for fun, let's predict the probability of an affair for a random woman not present in the dataset. She's a 25-year-old teacher who graduated college, has been married for 3 years, has 1 child, rates herself as strongly religious, rates her marriage as fair, and her husband is a farmer."
   ]
  },
  {
   "cell_type": "code",
   "execution_count": 48,
   "metadata": {},
   "outputs": [
    {
     "data": {
      "text/plain": [
       "array([[0.7747227, 0.2252773]])"
      ]
     },
     "execution_count": 48,
     "metadata": {},
     "output_type": "execute_result"
    }
   ],
   "source": [
    "model.predict_proba(np.array([[1, 0, 0, 1, 0, 0, 1, 0, 0, 0, 0, 3, 25, 3, 1, 4,\n",
    "                              16]]))"
   ]
  },
  {
   "cell_type": "markdown",
   "metadata": {},
   "source": [
    "The predicted probability of an affair is 22.5%."
   ]
  }
 ],
 "metadata": {
  "kernelspec": {
   "display_name": "Python 3",
   "language": "python",
   "name": "python3"
  },
  "language_info": {
   "codemirror_mode": {
    "name": "ipython",
    "version": 3
   },
   "file_extension": ".py",
   "mimetype": "text/x-python",
   "name": "python",
   "nbconvert_exporter": "python",
   "pygments_lexer": "ipython3",
   "version": "3.6.4"
  },
  "latex_envs": {
   "LaTeX_envs_menu_present": true,
   "autoclose": false,
   "autocomplete": true,
   "bibliofile": "biblio.bib",
   "cite_by": "apalike",
   "current_citInitial": 1,
   "eqLabelWithNumbers": true,
   "eqNumInitial": 1,
   "hotkeys": {
    "equation": "Ctrl-E",
    "itemize": "Ctrl-I"
   },
   "labels_anchors": false,
   "latex_user_defs": false,
   "report_style_numbering": false,
   "user_envs_cfg": false
  },
  "toc": {
   "base_numbering": 1,
   "nav_menu": {},
   "number_sections": true,
   "sideBar": true,
   "skip_h1_title": false,
   "title_cell": "Table of Contents",
   "title_sidebar": "Contents",
   "toc_cell": false,
   "toc_position": {},
   "toc_section_display": true,
   "toc_window_display": false
  }
 },
 "nbformat": 4,
 "nbformat_minor": 2
}
